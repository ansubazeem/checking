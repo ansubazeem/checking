{
 "cells": [
  {
   "cell_type": "raw",
   "metadata": {},
   "source": [
    "marksheet programme for assignment"
   ]
  },
  {
   "cell_type": "code",
   "execution_count": null,
   "metadata": {},
   "outputs": [],
   "source": [
    "english=int(input(\"enter the English marks: \"))\n",
    "maths=int(input(\"enter the maths marks: \"))\n",
    "chemistry=int(input(\"enter the chemistry marks: \"))\n",
    "urdu=int(input(\"enter the urdu marks: \"))\n",
    "physics=int(input(\"enter the physics marks: \"))\n",
    "\n",
    "avg=(english+maths+chemistry+urdu+physics)/5\n",
    "\n",
    "if avg > 89:\n",
    "    Grade =\" A+\"\n",
    "elif avg > 79 and avg <89:\n",
    "    Grade= \" A\"\n",
    "elif avg > 69 and avg < 79 :\n",
    "    Grade= \" B\"\n",
    "elif avg > 59 and avg < 69 :\n",
    "    Grade= \" C\"\n",
    "elif avg > 50 and avg <59 :\n",
    "    Grade=\" D\"\n",
    "else:\n",
    "    Grade=\"F\"\n",
    "    \n",
    "print(\"Total marks obtained= \",avg)\n",
    "print (\"Grade formed= \",Grade)\n",
    "Grade=f\n",
    "with open(\"marksheet.csv\", \"w\") as f:\n",
    "    f.write(Grade)"
   ]
  },
  {
   "cell_type": "code",
   "execution_count": null,
   "metadata": {},
   "outputs": [],
   "source": []
  }
 ],
 "metadata": {
  "kernelspec": {
   "display_name": "Python 3",
   "language": "python",
   "name": "python3"
  },
  "language_info": {
   "codemirror_mode": {
    "name": "ipython",
    "version": 3
   },
   "file_extension": ".py",
   "mimetype": "text/x-python",
   "name": "python",
   "nbconvert_exporter": "python",
   "pygments_lexer": "ipython3",
   "version": "3.7.3"
  }
 },
 "nbformat": 4,
 "nbformat_minor": 2
}
