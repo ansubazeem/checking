{
 "cells": [
  {
   "cell_type": "raw",
   "metadata": {},
   "source": [
    "HomeWork"
   ]
  },
  {
   "cell_type": "code",
   "execution_count": 20,
   "metadata": {},
   "outputs": [
    {
     "name": "stdout",
     "output_type": "stream",
     "text": [
      "given radius50\n",
      "Area of circle=   7853.999999999999\n"
     ]
    }
   ],
   "source": [
    "#Area Calculator\n",
    "radius=float(input(\"given radius\"))\n",
    "pie=3.1416\n",
    "Area= float(pie*radius*radius)\n",
    "print(\"Area of circle=  \",Area)"
   ]
  },
  {
   "cell_type": "code",
   "execution_count": 23,
   "metadata": {},
   "outputs": [
    {
     "name": "stdout",
     "output_type": "stream",
     "text": [
      "Enter the number: -3\n",
      "number is negative\n"
     ]
    }
   ],
   "source": [
    "#number checker\n",
    "number=float(input(\"Enter the number: \"))\n",
    "if number < 0 :\n",
    "    print(\"number is negative\")\n",
    "elif number > 0:\n",
    "    print(\"number is positive\")\n",
    "else :\n",
    "    print (\"number is zero\")"
   ]
  },
  {
   "cell_type": "code",
   "execution_count": 45,
   "metadata": {},
   "outputs": [
    {
     "name": "stdout",
     "output_type": "stream",
     "text": [
      "Enter the divident :49\n",
      "Enter the divider:7\n",
      "Divisible\n"
     ]
    }
   ],
   "source": [
    "num1=float(input(\"Enter the divident :\"))\n",
    "num2=float(input(\"Enter the divider:\"))\n",
    "if num1%num2==0:\n",
    "    print(\"Divisible\")\n",
    "else:\n",
    "    print(\"Not divisible\")\n"
   ]
  },
  {
   "cell_type": "code",
   "execution_count": 5,
   "metadata": {},
   "outputs": [
    {
     "name": "stdout",
     "output_type": "stream",
     "text": [
      "Enter the Radius of circle: 1\n",
      "volume of given sphere is :  4.1888\n"
     ]
    }
   ],
   "source": [
    "#volume of sphere\n",
    "radius=float(input(\"Enter the Radius of circle: \"))\n",
    "volume=(4/3)*(3.1416)*radius*radius*radius\n",
    "print(\"volume of given sphere is : \",volume)"
   ]
  },
  {
   "cell_type": "code",
   "execution_count": null,
   "metadata": {},
   "outputs": [],
   "source": [
    "#even and odd detector\n",
    "number=float(input(\"given number: \"))\n",
    "if number % 2==0:\n",
    "    print(\"its an Even number\")\n",
    "else:\n",
    "    print(\"its an Odd number\")\n",
    "    \n"
   ]
  },
  {
   "cell_type": "code",
   "execution_count": null,
   "metadata": {},
   "outputs": [],
   "source": [
    "#Printing a string n times\n",
    "str=input(\"Enter the string: \")\n",
    "number_of_times=int(input(\"Times to repeat: \"))\n",
    "print(str*number_of_times)"
   ]
  },
  {
   "cell_type": "code",
   "execution_count": 52,
   "metadata": {},
   "outputs": [
    {
     "name": "stdout",
     "output_type": "stream",
     "text": [
      "Enter the alphabet: z\n",
      "Not vowel\n"
     ]
    }
   ],
   "source": [
    "#vowel checker\n",
    "vowel=['a','e','i','o','u']\n",
    "alphabet=input(\"Enter the alphabet: \")\n",
    "for b in vowel:\n",
    "    if alphabet==b:\n",
    "        print(\"its a Vowel\")\n",
    "    else:\n",
    "        print(\"Not vowel\")\n",
    "    break"
   ]
  },
  {
   "cell_type": "code",
   "execution_count": 3,
   "metadata": {},
   "outputs": [
    {
     "name": "stdout",
     "output_type": "stream",
     "text": [
      "word - ansub\n",
      "1\n"
     ]
    }
   ],
   "source": [
    "a = input(\"word - \").lower()\n",
    "for letter in a:\n",
    "    if letter == \"a\" or \"e\" or \"i\" or \"o\" or \"u\":\n",
    "        \n",
    "        value = 0\n",
    "        value = value + 1\n",
    "print(value)"
   ]
  },
  {
   "cell_type": "code",
   "execution_count": 33,
   "metadata": {},
   "outputs": [
    {
     "name": "stdout",
     "output_type": "stream",
     "text": [
      "enter the magnitude of base: 4\n",
      "enter the magnitude of height: 4\n",
      "the volume of triangle with base 4.0 and height 4.0 is 8.0\n"
     ]
    }
   ],
   "source": [
    "#program of triangle formula\n",
    "b=float(input(\"enter the magnitude of base: \"))\n",
    "h=float(input(\"enter the magnitude of height: \"))\n",
    "volume=1/2*b*h\n",
    "print(\"the volume of triangle with base\",b,\"and height\",h,\"is\",volume)\n"
   ]
  },
  {
   "cell_type": "code",
   "execution_count": 37,
   "metadata": {},
   "outputs": [
    {
     "name": "stdout",
     "output_type": "stream",
     "text": [
      "enter principle ammount:505050\n",
      "enter rate of interest:0.8\n",
      "enter number of years for investment:10\n",
      "accured ammount:  545454.0\n"
     ]
    }
   ],
   "source": [
    "p=float(input(\"enter principle ammount:\"))\n",
    "r1=float(input(\"enter rate of interest:\"))\n",
    "r=r1/100\n",
    "t=float(input(\"enter number of years for investment:\"))\n",
    "a=p*(1+r*t)\n",
    "print(\"accured ammount: \",a)\n"
   ]
  },
  {
   "cell_type": "code",
   "execution_count": 43,
   "metadata": {},
   "outputs": [
    {
     "name": "stdout",
     "output_type": "stream",
     "text": [
      "enter first x co ordinate: 2\n",
      "enter second x co ordinate: 4\n",
      "enter first y co ordinate: 4\n",
      "enter second y co ordinate: 4\n",
      "answer for co ordinates is 2.0\n"
     ]
    }
   ],
   "source": [
    "#Euclidean distance\n",
    "x1=float(input(\"enter first x co ordinate: \"))\n",
    "x2=float(input(\"enter second x co ordinate: \"))\n",
    "y1=float(input(\"enter first y co ordinate: \"))\n",
    "y2=float(input(\"enter second y co ordinate: \"))\n",
    "import math\n",
    "d=math.sqrt((y1-x1)*(y1-x1)+(y2-x2)*(y2-x2))\n",
    "print(\"answer for co ordinates is\",d)"
   ]
  },
  {
   "cell_type": "code",
   "execution_count": 54,
   "metadata": {},
   "outputs": [
    {
     "name": "stdout",
     "output_type": "stream",
     "text": [
      "Enter the height: 45\n",
      "height in centimeter is:  1372.5\n"
     ]
    }
   ],
   "source": [
    "#Converting feet into centimeter\n",
    "feet=float(input(\"Enter the height: \"))\n",
    "centimeter=feet*30.5\n",
    "print(\"height in centimeter is: \",centimeter)"
   ]
  },
  {
   "cell_type": "code",
   "execution_count": null,
   "metadata": {},
   "outputs": [],
   "source": [
    "#Calcuating BMI\n",
    "weight=float(input(\"Enter your weight in kg: \"))\n",
    "height1=float(input(\"Enter your height: \"))\n",
    "import math\n",
    "pow(height1,2)\n",
    "bmi=(weight/height)\n",
    "print(\"The BMI is: \",bmi)"
   ]
  },
  {
   "cell_type": "code",
   "execution_count": null,
   "metadata": {},
   "outputs": [],
   "source": [
    "#Sum of n positive integers\n",
    "n=int(input(\"Enter the integer: \"))\n",
    "total=(n/2)*(2+(n-1))\n",
    "print(\"sum is:  \",total)"
   ]
  },
  {
   "cell_type": "code",
   "execution_count": 4,
   "metadata": {},
   "outputs": [
    {
     "name": "stdout",
     "output_type": "stream",
     "text": [
      "Please Enter any Number: 222\n",
      "\n",
      " Sum of the digits of Given Number = 6\n"
     ]
    }
   ],
   "source": [
    "# Python Program to find Sum of Digits of a Number using While Loop\n",
    "\n",
    "Number = int(input(\"Please Enter any Number: \"))\n",
    "Sum = 0\n",
    "\n",
    "while(Number > 0):\n",
    "    Reminder = Number % 10\n",
    "    Sum = Sum + Reminder\n",
    "    Number = Number //10\n",
    "\n",
    "print(\"\\n Sum of the digits of Given Number = %d\" %Sum)"
   ]
  },
  {
   "cell_type": "code",
   "execution_count": 5,
   "metadata": {},
   "outputs": [
    {
     "name": "stdout",
     "output_type": "stream",
     "text": [
      "Enter any decimal number: 45\n",
      "101101"
     ]
    }
   ],
   "source": [
    "#Decimal to binary conversion\n",
    "def decimalToBinary(num):\n",
    "    if num > 1:\n",
    "        decimalToBinary(num//2)\n",
    "    print(num % 2, end='')\n",
    "\n",
    "number = int(input(\"Enter any decimal number: \"))\n",
    "decimalToBinary(number)"
   ]
  },
  {
   "cell_type": "code",
   "execution_count": 7,
   "metadata": {},
   "outputs": [
    {
     "name": "stdout",
     "output_type": "stream",
     "text": [
      "Enter a Binary number 110101\n",
      "110101 = 53\n"
     ]
    }
   ],
   "source": [
    "#Binary to decimal converter\n",
    "binarynumber = input(\"Enter a Binary number \")\n",
    "binarylist = list(binarynumber)\n",
    "defaultvalue = 0\n",
    "actualnum=str(binarynumber)\n",
    "for d in range (len(binarylist)):\n",
    "    number=binarylist.pop()\n",
    "    if number ==\"1\": \n",
    "        defaultvalue=defaultvalue+pow(2,d)\n",
    "print(actualnum,\"=\",defaultvalue)"
   ]
  },
  {
   "cell_type": "code",
   "execution_count": 11,
   "metadata": {},
   "outputs": [
    {
     "name": "stdout",
     "output_type": "stream",
     "text": [
      "enter the text: the quick brown fox jump over the lazy dog\n",
      "number of vowels:  11\n",
      "number of consonants:  31\n"
     ]
    }
   ],
   "source": [
    "#vowels and consonants counter\n",
    "givensentence=input(\"enter the text: \")\n",
    "vowels=0\n",
    "consonants=0\n",
    "for i in givensentence:\n",
    "    if (i == 'a' or i == 'e' or i == 'i' or i == 'o' or i == 'u'or i == 'A' or i == 'E' or i == 'I' or i == 'O' or i == 'U'):\n",
    "        vowels=vowels+1\n",
    "    else:\n",
    "        consonants=consonants+1\n",
    "print(\"number of vowels: \",vowels)\n",
    "print(\"number of consonants: \",consonants)"
   ]
  },
  {
   "cell_type": "code",
   "execution_count": 16,
   "metadata": {},
   "outputs": [
    {
     "name": "stdout",
     "output_type": "stream",
     "text": [
      "Enter the string: ansub12\n",
      "total number of alphabets:  5\n",
      "total number of digits:  2\n",
      "total number of special:  0\n"
     ]
    }
   ],
   "source": [
    "#alphabet numbers and special character counter\n",
    "giventext=input(\"Enter the string: \")\n",
    "alphabet=0\n",
    "digit=0\n",
    "special=0\n",
    "for i in range (len(giventext)):\n",
    "    if (giventext[i].isalpha()):\n",
    "        alphabet=alphabet+1\n",
    "    elif (giventext[i].isdigit()):\n",
    "        digit=digit+1\n",
    "    else:\n",
    "        special=special+1\n",
    "print(\"total number of alphabets: \",alphabet)\n",
    "print(\"total number of digits: \",digit)\n",
    "print(\"total number of special: \",special)\n",
    "    "
   ]
  },
  {
   "cell_type": "code",
   "execution_count": 1,
   "metadata": {},
   "outputs": [
    {
     "name": "stdout",
     "output_type": "stream",
     "text": [
      "\n",
      "* \n",
      "* * \n",
      "* * * \n",
      "* * * * \n",
      "* * * * * \n",
      "* * * * \n",
      "* * * \n",
      "* * \n",
      "* \n"
     ]
    }
   ],
   "source": [
    "#Writing a pattern\n",
    "n=5;\n",
    "for i in range(n):\n",
    "    for j in range(i):\n",
    "        print ('* ', end=\"\") \n",
    "    print('')\n",
    "\n",
    "for i in range(n,0,-1):\n",
    "    for j in range(i):\n",
    "        print('* ', end=\"\")\n",
    "    print('')"
   ]
  },
  {
   "cell_type": "code",
   "execution_count": 8,
   "metadata": {},
   "outputs": [
    {
     "name": "stdout",
     "output_type": "stream",
     "text": [
      "enter text:rar\n",
      "palindrome\n"
     ]
    }
   ],
   "source": [
    "#palindrome programme\n",
    "letter=input(\"enter text:\")\n",
    "if letter==letter[::-1]:\n",
    "     print (\"palindrome\")\n",
    "else:\n",
    "     print(\"non paldimore\")"
   ]
  },
  {
   "cell_type": "code",
   "execution_count": 18,
   "metadata": {},
   "outputs": [
    {
     "name": "stdout",
     "output_type": "stream",
     "text": [
      "Enter a date in (dd/mm/yy) format: 12/08/2019\n",
      "Enter a date in (dd/mm/yy) format: 11/03/2013\n",
      "There are  -2345 days between  2019-08-12  and  2013-03-11\n"
     ]
    }
   ],
   "source": [
    "#day calculating \n",
    "from datetime import datetime\n",
    "\n",
    "starting_day = input(\"Enter a date in (dd/mm/yy) format: \")\n",
    "ending_day = input(\"Enter a date in (dd/mm/yy) format: \")\n",
    "\n",
    "final_start = datetime.strptime(starting_day,\"%d/%m/%Y\").date()\n",
    "final_end = datetime.strptime(ending_day,\"%d/%m/%Y\").date()\n",
    "\n",
    "remaining_Days = final_end - final_start\n",
    "\n",
    "print (\"There are \", remaining_Days.days, \"days between \", final_start,\" and \",final_end)"
   ]
  },
  {
   "cell_type": "code",
   "execution_count": 19,
   "metadata": {},
   "outputs": [
    {
     "name": "stdout",
     "output_type": "stream",
     "text": [
      "\n",
      "1\n",
      "12\n",
      "123\n",
      "1234\n",
      "12345\n",
      "1234\n",
      "123\n",
      "12\n",
      "1\n"
     ]
    }
   ],
   "source": [
    "number=5\n",
    "random = 1\n",
    "for i in range(number):\n",
    "    for j in range(i):\n",
    "        print (j+1, end=\"\")\n",
    "    \n",
    "    print('')\n",
    "\n",
    "for i in range(5,0,-1):\n",
    "    for j in range(i):\n",
    "        print(j+1, end=\"\")\n",
    "    print('')"
   ]
  },
  {
   "cell_type": "code",
   "execution_count": 20,
   "metadata": {},
   "outputs": [
    {
     "name": "stdout",
     "output_type": "stream",
     "text": [
      "\n",
      "1\n",
      "22\n",
      "333\n",
      "4444\n",
      "55555\n",
      "666666\n",
      "7777777\n",
      "88888888\n",
      "999999999\n"
     ]
    }
   ],
   "source": [
    "for i in range(10):\n",
    "    print(str(i) * i)"
   ]
  },
  {
   "cell_type": "code",
   "execution_count": null,
   "metadata": {},
   "outputs": [],
   "source": []
  }
 ],
 "metadata": {
  "kernelspec": {
   "display_name": "Python 3",
   "language": "python",
   "name": "python3"
  },
  "language_info": {
   "codemirror_mode": {
    "name": "ipython",
    "version": 3
   },
   "file_extension": ".py",
   "mimetype": "text/x-python",
   "name": "python",
   "nbconvert_exporter": "python",
   "pygments_lexer": "ipython3",
   "version": "3.7.3"
  }
 },
 "nbformat": 4,
 "nbformat_minor": 2
}
