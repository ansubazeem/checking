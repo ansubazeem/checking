{
 "cells": [
  {
   "cell_type": "raw",
   "metadata": {},
   "source": [
    ".) Append command add object to list \n",
    ".) list contain several strings or number placed or designated to a specific variable\n",
    ".)you can create empty array/list\n",
    ".) \"\\n\" is used to add blank line\n",
    ".)the lists can be added in eachother\n",
    ".) make list of five subjects\n",
    ".) make list of 5 marks \n",
    ".) slicing is the process of collecting data from bigger lists\n",
    ".)delete and removing of lists contents are given in 65 and 66 \n",
    ".)tasks.pop(1) delets as well as store the value itself\n",
    ".)if we dont give it a number in bracket it will delete last value of list\n",
    ".)pops give back deleted value\n",
    ".)delete dont gives back the deleted value\n",
    ".) remove removes the value by telling string to be deleted\n",
    ".)popped  values can be inserted in other lists\n",
    ".) homework : make marksheets by first making a list of subjects then the list of marks and then calculating them by array methods.\n",
    "\n",
    "\n"
   ]
  },
  {
   "cell_type": "code",
   "execution_count": 1,
   "metadata": {},
   "outputs": [
    {
     "name": "stdout",
     "output_type": "stream",
     "text": [
      "Newyork\n"
     ]
    }
   ],
   "source": [
    "cities=[\"Atalnta\",\"chicago\",\"Newyork\"]\n",
    "print(cities[2])\n"
   ]
  },
  {
   "cell_type": "code",
   "execution_count": 3,
   "metadata": {},
   "outputs": [
    {
     "name": "stdout",
     "output_type": "stream",
     "text": [
      "['maths', 'English', 'Physics', 'Biology', 'chemistry']\n"
     ]
    }
   ],
   "source": [
    "subjects=['maths','English','Physics','Biology','chemistry']\n",
    "print (subjects)\n"
   ]
  },
  {
   "cell_type": "code",
   "execution_count": 9,
   "metadata": {},
   "outputs": [
    {
     "name": "stdout",
     "output_type": "stream",
     "text": [
      "[75, 80, 85, 70, 90]\n"
     ]
    }
   ],
   "source": [
    "marks=[75,80,85,70,90]\n",
    "print(marks)"
   ]
  },
  {
   "cell_type": "code",
   "execution_count": 6,
   "metadata": {},
   "outputs": [
    {
     "name": "stdout",
     "output_type": "stream",
     "text": [
      "['Physics', 'Biology', 'chemistry']\n"
     ]
    }
   ],
   "source": [
    "print()\n",
    "important_subjects=subjects[2:5]\n",
    "print(important_subjects)\n"
   ]
  },
  {
   "cell_type": "code",
   "execution_count": 10,
   "metadata": {},
   "outputs": [
    {
     "name": "stdout",
     "output_type": "stream",
     "text": [
      "[75, 80, 85, 70, 90]\n"
     ]
    },
    {
     "data": {
      "text/plain": [
       "90"
      ]
     },
     "execution_count": 10,
     "metadata": {},
     "output_type": "execute_result"
    }
   ],
   "source": [
    "print(marks)\n",
    "marks.pop(4)"
   ]
  },
  {
   "cell_type": "code",
   "execution_count": 8,
   "metadata": {},
   "outputs": [
    {
     "name": "stdout",
     "output_type": "stream",
     "text": [
      "[75, 80, 85, 70]\n"
     ]
    }
   ],
   "source": [
    "print(marks )     #popping funciton is shown here"
   ]
  },
  {
   "cell_type": "code",
   "execution_count": null,
   "metadata": {},
   "outputs": [],
   "source": []
  }
 ],
 "metadata": {
  "kernelspec": {
   "display_name": "Python 3",
   "language": "python",
   "name": "python3"
  },
  "language_info": {
   "codemirror_mode": {
    "name": "ipython",
    "version": 3
   },
   "file_extension": ".py",
   "mimetype": "text/x-python",
   "name": "python",
   "nbconvert_exporter": "python",
   "pygments_lexer": "ipython3",
   "version": "3.7.3"
  }
 },
 "nbformat": 4,
 "nbformat_minor": 2
}
